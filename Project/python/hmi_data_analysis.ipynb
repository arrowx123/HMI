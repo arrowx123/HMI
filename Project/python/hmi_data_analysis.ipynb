{
 "cells": [
  {
   "cell_type": "code",
   "execution_count": 10,
   "metadata": {
    "collapsed": false,
    "deletable": true,
    "editable": true
   },
   "outputs": [
    {
     "ename": "AttributeError",
     "evalue": "'module' object has no attribute 'style'",
     "output_type": "error",
     "traceback": [
      "\u001b[0;31m-----------------------------------------------------------\u001b[0m",
      "\u001b[0;31mAttributeError\u001b[0m            Traceback (most recent call last)",
      "\u001b[0;32m<ipython-input-10-14deaed413ec>\u001b[0m in \u001b[0;36m<module>\u001b[0;34m()\u001b[0m\n\u001b[1;32m     13\u001b[0m \u001b[0;32mimport\u001b[0m \u001b[0mmatplotlib\u001b[0m\u001b[0;34m.\u001b[0m\u001b[0mpyplot\u001b[0m \u001b[0;32mas\u001b[0m \u001b[0mplt\u001b[0m\u001b[0;34m\u001b[0m\u001b[0m\n\u001b[1;32m     14\u001b[0m \u001b[0;32mimport\u001b[0m \u001b[0mmatplotlib\u001b[0m\u001b[0;34m\u001b[0m\u001b[0m\n\u001b[0;32m---> 15\u001b[0;31m \u001b[0mmatplotlib\u001b[0m\u001b[0;34m.\u001b[0m\u001b[0mstyle\u001b[0m\u001b[0;34m.\u001b[0m\u001b[0muse\u001b[0m\u001b[0;34m(\u001b[0m\u001b[0;34m'ggplot'\u001b[0m\u001b[0;34m)\u001b[0m\u001b[0;34m\u001b[0m\u001b[0m\n\u001b[0m\u001b[1;32m     16\u001b[0m \u001b[0;34m\u001b[0m\u001b[0m\n\u001b[1;32m     17\u001b[0m \u001b[0mplotly\u001b[0m\u001b[0;34m.\u001b[0m\u001b[0mtools\u001b[0m\u001b[0;34m.\u001b[0m\u001b[0mset_credentials_file\u001b[0m\u001b[0;34m(\u001b[0m\u001b[0musername\u001b[0m\u001b[0;34m=\u001b[0m\u001b[0;34m'arrowx123'\u001b[0m\u001b[0;34m,\u001b[0m \u001b[0mapi_key\u001b[0m\u001b[0;34m=\u001b[0m\u001b[0;34m'7wJFyPEi8zJqbT4HBBeo'\u001b[0m\u001b[0;34m)\u001b[0m\u001b[0;34m\u001b[0m\u001b[0m\n",
      "\u001b[0;31mAttributeError\u001b[0m: 'module' object has no attribute 'style'"
     ]
    }
   ],
   "source": [
    "import sys\n",
    "import plotly\n",
    "import plotly.plotly as py\n",
    "import plotly.graph_objs as go\n",
    "\n",
    "from plotly.tools import FigureFactory as FF\n",
    "\n",
    "import numpy as np\n",
    "import pandas as pd\n",
    "import scipy\n",
    "import scipy.stats\n",
    "\n",
    "import matplotlib.pyplot as plt\n",
    "import matplotlib\n",
    "matplotlib.style.use('ggplot')\n",
    "\n",
    "plotly.tools.set_credentials_file(username='arrowx123', api_key='7wJFyPEi8zJqbT4HBBeo')"
   ]
  },
  {
   "cell_type": "code",
   "execution_count": 8,
   "metadata": {
    "collapsed": false,
    "deletable": true,
    "editable": true
   },
   "outputs": [
    {
     "name": "stdout",
     "output_type": "stream",
     "text": [
      "/Library/Frameworks/Python.framework/Versions/2.7/Resources/Python.app/Contents/MacOS/Python\n"
     ]
    }
   ],
   "source": [
    "\n",
    "print(sys.executable)"
   ]
  },
  {
   "cell_type": "code",
   "execution_count": 3,
   "metadata": {
    "collapsed": false,
    "deletable": true,
    "editable": true
   },
   "outputs": [],
   "source": [
    "# order:\n",
    "# RHA RAH ARH AHR HRA HAR\n",
    "\n",
    "age = [28, 27, 24, 25, 24, 35, 23, 31, 22, 24, 38, 23]\n",
    "gender = ['f', 'm', 'm', 'm', 'm', 'm', 'f', 'f', 'm', 'f', 'm', 'f']\n",
    "\n",
    "time_haptics = [109, 100, 83, 101, 101, 117, 104, 112, 142, 192, 85, 126]\n",
    "time_audio = [151, 126, 164, 148, 148, 130, 175, 137, 118, 107, 80, 86]\n",
    "\n",
    "workload_haptics = [167, 230, 65, 88, 73, 184, 36, 150, 265, 209, 177, 171]\n",
    "workload_audio = [164, 230, 103, 153, 89, 200, 173, 181, 284, 135, 165, 165]\n",
    "\n",
    "fatigue_real\t= [12, 7, 3, 11, 4, 3, 7, 10, 7, 7, 5, 12]\n",
    "fatigue_haptics\t= [8, 10, 5, 9, 5, 12, 4, 6, 6, 7, 8, 9]\n",
    "fatigue_audio\t= [8, 11, 7, 9, 5, 12, 4, 6, 6, 7, 8, 6]\n",
    "\n",
    "safety_feeling_real\t\t= [2, 4, 4, 2, 4, 5, 3, 3, 5, 3, 5, 3]\n",
    "safety_feeling_haptics\t= [4, 3, 5, 4, 5, 2, 5, 5, 5, 5, 4, 5]\n",
    "safety_feeling_audio\t= [4, 3, 5, 4, 5, 2, 5, 5, 5, 5, 4, 5]\n",
    "\n",
    "vibration_real\t\t= [4, 5, 5, 4, 4, 3, 5, 4, 2, 3, 3, 4]\n",
    "vibration_haptics\t= [3, 5, 5, 2, 4, 4, 1, 2, 1, 4, 1, 4]\n",
    "vibration_audio\t\t= [2, 1, 1, 1, 4, 1, 1, 1, 1, 1, 1, 1]\n",
    "\n"
   ]
  },
  {
   "cell_type": "code",
   "execution_count": 125,
   "metadata": {
    "collapsed": false,
    "deletable": true,
    "editable": true
   },
   "outputs": [
    {
     "name": "stdout",
     "output_type": "stream",
     "text": [
      "The mean of age is 27.0\n",
      "The standard deviation of age is 4.915960401250875\n"
     ]
    }
   ],
   "source": [
    "# age mean and std\n",
    "print(\"The mean of age is {}\".format(np.mean(age)))\n",
    "print(\"The standard deviation of age is {}\".format(np.std(age)))\n"
   ]
  },
  {
   "cell_type": "code",
   "execution_count": 108,
   "metadata": {
    "collapsed": false,
    "deletable": true,
    "editable": true
   },
   "outputs": [],
   "source": [
    "# for i in range(len(time_haptics)):\n",
    "#     print(\"haptics, {}, {}\".format(time_haptics[i], workload_haptics[i]))\n",
    "#     print(\"audio, {}, {}\".format(time_audio[i], workload_audio[i]))"
   ]
  },
  {
   "cell_type": "code",
   "execution_count": 109,
   "metadata": {
    "collapsed": false,
    "deletable": true,
    "editable": true
   },
   "outputs": [],
   "source": [
    "time_haptics_sum = sum(time_haptics)\n",
    "time_audio_sum = sum(time_audio)\n",
    "\n",
    "workload_haptics_sum = sum(workload_haptics)\n",
    "workload_audio_sum = sum(workload_audio)\n",
    "\n",
    "\n",
    "# print(time_haptics_sum, time_audio_sum)\n",
    "# print(workload_haptics_sum, workload_audio_sum)"
   ]
  },
  {
   "cell_type": "code",
   "execution_count": 38,
   "metadata": {
    "collapsed": false,
    "deletable": true,
    "editable": true
   },
   "outputs": [
    {
     "name": "stderr",
     "output_type": "stream",
     "text": [
      "/Library/Frameworks/Python.framework/Versions/3.5/lib/python3.5/site-packages/plotly/tools.py:1417: UserWarning:\n",
      "\n",
      "plotly.tools.FigureFactory.create_table is deprecated. Use plotly.figure_factory.create_table\n",
      "\n"
     ]
    },
    {
     "data": {
      "text/html": [
       "<iframe id=\"igraph\" scrolling=\"no\" style=\"border:none;\" seamless=\"seamless\" src=\"https://plot.ly/~arrowx123/4.embed\" height=\"110px\" width=\"100%\"></iframe>"
      ],
      "text/plain": [
       "<plotly.tools.PlotlyDisplay object>"
      ]
     },
     "execution_count": 38,
     "metadata": {},
     "output_type": "execute_result"
    }
   ],
   "source": [
    "twosample_time = scipy.stats.ttest_ind(time_haptics, time_audio)\n",
    "\n",
    "matrix_time = [\n",
    "    ['', 'Test Statistic', 'p-value'],\n",
    "    ['Sample Data', twosample_time[0], twosample_time[1]]\n",
    "]\n",
    "\n",
    "time_table = FF.create_table(matrix_time, index=True)\n",
    "py.iplot(time_table, filename='time-table')"
   ]
  },
  {
   "cell_type": "code",
   "execution_count": 110,
   "metadata": {
    "collapsed": false,
    "deletable": true,
    "editable": true
   },
   "outputs": [
    {
     "name": "stdout",
     "output_type": "stream",
     "text": [
      "Ttest_indResult(statistic=-1.3781818244361348, pvalue=0.18200360642108213)\n"
     ]
    }
   ],
   "source": [
    "print(twosample_time)"
   ]
  },
  {
   "cell_type": "code",
   "execution_count": 39,
   "metadata": {
    "collapsed": false,
    "deletable": true,
    "editable": true
   },
   "outputs": [
    {
     "name": "stderr",
     "output_type": "stream",
     "text": [
      "/Library/Frameworks/Python.framework/Versions/3.5/lib/python3.5/site-packages/plotly/tools.py:1417: UserWarning:\n",
      "\n",
      "plotly.tools.FigureFactory.create_table is deprecated. Use plotly.figure_factory.create_table\n",
      "\n"
     ]
    },
    {
     "data": {
      "text/html": [
       "<iframe id=\"igraph\" scrolling=\"no\" style=\"border:none;\" seamless=\"seamless\" src=\"https://plot.ly/~arrowx123/6.embed\" height=\"110px\" width=\"100%\"></iframe>"
      ],
      "text/plain": [
       "<plotly.tools.PlotlyDisplay object>"
      ]
     },
     "execution_count": 39,
     "metadata": {},
     "output_type": "execute_result"
    }
   ],
   "source": [
    "twosample_workload = scipy.stats.ttest_ind(workload_haptics, workload_audio)\n",
    "\n",
    "matrix_workload = [\n",
    "    ['', 'Test Statistic', 'p-value'],\n",
    "    ['Sample Data', twosample_workload[0], twosample_workload[1]]\n",
    "]\n",
    "\n",
    "workload_table = FF.create_table(matrix_workload, index=True)\n",
    "py.iplot(workload_table, filename='workload-table')"
   ]
  },
  {
   "cell_type": "code",
   "execution_count": 59,
   "metadata": {
    "collapsed": false,
    "deletable": true,
    "editable": true
   },
   "outputs": [
    {
     "name": "stdout",
     "output_type": "stream",
     "text": [
      "0     109\n",
      "1     151\n",
      "2     100\n",
      "3     126\n",
      "4      83\n",
      "5     164\n",
      "6     101\n",
      "7     148\n",
      "8     101\n",
      "9     148\n",
      "10    117\n",
      "11    130\n",
      "12    104\n",
      "13    175\n",
      "14    112\n",
      "15    137\n",
      "16    142\n",
      "17    118\n",
      "18    192\n",
      "19    107\n",
      "20     85\n",
      "21     80\n",
      "22    126\n",
      "23     86\n",
      "Name: time, dtype: int64\n"
     ]
    }
   ],
   "source": [
    "# index = ['class', 'time', 'workload']\n",
    "\n",
    "\n",
    "data = pd.read_csv('time_workload.csv', sep=',', na_values='.')\n",
    "data.columns\n",
    "\n",
    "print(data['time'])"
   ]
  },
  {
   "cell_type": "code",
   "execution_count": 88,
   "metadata": {
    "collapsed": false,
    "deletable": true,
    "editable": true
   },
   "outputs": [],
   "source": [
    "# Box plots of different columns for each gender\n",
    "groupby_class = data.groupby('class')\n",
    "\n",
    "# plt.figure()\n",
    "# groupby_class.plot.box()\n",
    "# data.plot.box()\n",
    "# data.boxplot(by='class', figsize=(10, 10))\n",
    "# plt.show()\n",
    "\n",
    "# groupby_gender.plot.box()\n"
   ]
  },
  {
   "cell_type": "code",
   "execution_count": null,
   "metadata": {
    "collapsed": false,
    "deletable": true,
    "editable": true
   },
   "outputs": [],
   "source": []
  },
  {
   "cell_type": "code",
   "execution_count": 1,
   "metadata": {
    "collapsed": false,
    "deletable": true,
    "editable": true
   },
   "outputs": [
    {
     "ename": "NameError",
     "evalue": "name 'go' is not defined",
     "output_type": "error",
     "traceback": [
      "\u001b[0;31m-----------------------------------------------------------\u001b[0m",
      "\u001b[0;31mNameError\u001b[0m                 Traceback (most recent call last)",
      "\u001b[0;32m<ipython-input-1-ed610714d77e>\u001b[0m in \u001b[0;36m<module>\u001b[0;34m()\u001b[0m\n\u001b[1;32m     50\u001b[0m     \u001b[0;34m'size'\u001b[0m \u001b[0;34m:\u001b[0m \u001b[0;36m18\u001b[0m\u001b[0;34m\u001b[0m\u001b[0m\n\u001b[1;32m     51\u001b[0m }\n\u001b[0;32m---> 52\u001b[0;31m \u001b[0mfig\u001b[0m \u001b[0;34m=\u001b[0m \u001b[0mgo\u001b[0m\u001b[0;34m.\u001b[0m\u001b[0mFigure\u001b[0m\u001b[0;34m(\u001b[0m\u001b[0mdata\u001b[0m\u001b[0;34m=\u001b[0m\u001b[0mdata\u001b[0m\u001b[0;34m,\u001b[0m \u001b[0mlayout\u001b[0m\u001b[0;34m=\u001b[0m\u001b[0mlayout\u001b[0m\u001b[0;34m)\u001b[0m\u001b[0;34m\u001b[0m\u001b[0m\n\u001b[0m\u001b[1;32m     53\u001b[0m \u001b[0;34m\u001b[0m\u001b[0m\n\u001b[1;32m     54\u001b[0m \u001b[0mpy\u001b[0m\u001b[0;34m.\u001b[0m\u001b[0miplot\u001b[0m\u001b[0;34m(\u001b[0m\u001b[0mfig\u001b[0m\u001b[0;34m)\u001b[0m\u001b[0;34m\u001b[0m\u001b[0m\n",
      "\u001b[0;31mNameError\u001b[0m: name 'go' is not defined"
     ]
    }
   ],
   "source": [
    "# box plot for the comparision of haptics and audio\n",
    "# in terms of workload and time\n",
    "\n",
    "\n",
    "data = [\n",
    "    {\n",
    "        'x': [151, 126, 164, 148, 148, 130,\n",
    "              175, 137, 118, 107, 80, 86,\n",
    "              164, 230, 103, 153, 89, 200,\n",
    "              173, 181, 284, 135, 165, 165],\n",
    "        'y': ['time', 'time', 'time', 'time', 'time', 'time',\n",
    "              'time', 'time', 'time', 'time', 'time', 'time',\n",
    "              'workload', 'workload', 'workload', 'workload',\n",
    "              'workload', 'workload', 'workload', 'workload',\n",
    "              'workload', 'workload', 'workload', 'workload'],\n",
    "        'name':'audio',\n",
    "        'marker': {\n",
    "            'color': '#3D9970'\n",
    "        },\n",
    "        'boxmean': 'sd',\n",
    "        'orientation': 'h',\n",
    "        \"type\": \"box\",\n",
    "    },\n",
    "    {\n",
    "        'x': [109, 100, 83, 101, 101, 117,\n",
    "              104, 112, 142, 192, 85, 126,\n",
    "              167, 230, 65, 88, 73, 184, 36,\n",
    "              150, 265, 209, 177, 171],\n",
    "        'y': ['time', 'time', 'time', 'time', 'time', 'time',\n",
    "              'time', 'time', 'time', 'time', 'time', 'time',\n",
    "              'workload', 'workload', 'workload', 'workload',\n",
    "              'workload', 'workload', 'workload', 'workload',\n",
    "              'workload', 'workload', 'workload', 'workload'],\n",
    "        'name': 'haptics & audio',\n",
    "        'marker':{\n",
    "            'color': '#FF4136',\n",
    "        },\n",
    "        'boxmean': 'sd',\n",
    "        'orientation': 'h',\n",
    "        \"type\": \"box\",\n",
    "    }\n",
    "]\n",
    "layout = {\n",
    "    'xaxis': {\n",
    "        'title': 'The comparision between different feedbacks.',\n",
    "        'zeroline': False,\n",
    "    },\n",
    "    'boxmode' : 'group',\n",
    "    'legend' : dict(x=0.65, y=0.2),\n",
    "    'size' : 18\n",
    "}\n",
    "fig = go.Figure(data=data, layout=layout)\n",
    "\n",
    "py.iplot(fig)"
   ]
  },
  {
   "cell_type": "code",
   "execution_count": 134,
   "metadata": {
    "collapsed": false,
    "deletable": true,
    "editable": true
   },
   "outputs": [
    {
     "data": {
      "text/html": [
       "<iframe id=\"igraph\" scrolling=\"no\" style=\"border:none;\" seamless=\"seamless\" src=\"https://plot.ly/~arrowx123/52.embed\" height=\"525px\" width=\"100%\"></iframe>"
      ],
      "text/plain": [
       "<plotly.tools.PlotlyDisplay object>"
      ]
     },
     "execution_count": 134,
     "metadata": {},
     "output_type": "execute_result"
    }
   ],
   "source": [
    "# box plot for the comparision of haptics and audio\n",
    "# in terms of fagitue\n",
    "\n",
    "\n",
    "data = [\n",
    "    {\n",
    "        'x': [12, 7, 3, 11, 4, 3, 7, 10, 7, 7, 5, 12],\n",
    "        'y': ['fagitue', 'fagitue', 'fagitue', 'fagitue', \n",
    "              'fagitue', 'fagitue', 'fagitue', 'fagitue', \n",
    "              'fagitue', 'fagitue', 'fagitue', 'fagitue'],\n",
    "        'name': 'physical',\n",
    "        'marker':{\n",
    "            'color': '#FF4136',\n",
    "        },\n",
    "        'boxmean': 'sd',\n",
    "        'orientation': 'h',\n",
    "        \"type\": \"box\",\n",
    "    },\n",
    "    {\n",
    "        'x': [8, 11, 7, 9, 5, 12, 4, 6, 6, 7, 8, 6],\n",
    "        'y': ['fagitue', 'fagitue', 'fagitue', 'fagitue', \n",
    "              'fagitue', 'fagitue', 'fagitue', 'fagitue', \n",
    "              'fagitue', 'fagitue', 'fagitue', 'fagitue'],\n",
    "        'name':'audio',\n",
    "        'marker': {\n",
    "            'color': '#3D9970'\n",
    "        },\n",
    "        'boxmean': 'sd',\n",
    "        'orientation': 'h',\n",
    "        \"type\": \"box\",\n",
    "    },\n",
    "    {\n",
    "        'x': [8, 10, 5, 9, 5, 12, 4, 6, 6, 7, 8, 9],\n",
    "        'y': ['fagitue', 'fagitue', 'fagitue', 'fagitue', \n",
    "              'fagitue', 'fagitue', 'fagitue', 'fagitue', \n",
    "              'fagitue', 'fagitue', 'fagitue', 'fagitue'],\n",
    "        'name': 'haptics & audio',\n",
    "        'marker':{\n",
    "            'color': '#AA4136',\n",
    "        },\n",
    "        'boxmean': 'sd',\n",
    "        'orientation': 'h',\n",
    "        \"type\": \"box\",\n",
    "    }\n",
    "]\n",
    "layout = {\n",
    "    'xaxis': {\n",
    "        'title': 'The comparision between different feedbacks.',\n",
    "        'zeroline': False,\n",
    "    },\n",
    "    'boxmode': 'group',\n",
    "    'legend' : dict(x=0.65, y=1.05),\n",
    "}\n",
    "fig = go.Figure(data=data, layout=layout)\n",
    "\n",
    "py.iplot(fig)"
   ]
  },
  {
   "cell_type": "code",
   "execution_count": 136,
   "metadata": {
    "collapsed": false,
    "deletable": true,
    "editable": true
   },
   "outputs": [
    {
     "data": {
      "text/html": [
       "<iframe id=\"igraph\" scrolling=\"no\" style=\"border:none;\" seamless=\"seamless\" src=\"https://plot.ly/~arrowx123/56.embed\" height=\"525px\" width=\"100%\"></iframe>"
      ],
      "text/plain": [
       "<plotly.tools.PlotlyDisplay object>"
      ]
     },
     "execution_count": 136,
     "metadata": {},
     "output_type": "execute_result"
    }
   ],
   "source": [
    "# box plot for the comparision of haptics and audio\n",
    "# in terms of safety feeling\n",
    "\n",
    "\n",
    "\n",
    "data = [\n",
    "    {\n",
    "        'x': [2, 4, 4, 2, 4, 5, 3, 3, 5, 3, 5, 3],\n",
    "        'y': ['safety', 'safety', 'safety', 'safety', \n",
    "              'safety', 'safety', 'safety', 'safety', \n",
    "              'safety', 'safety', 'safety', 'safety'],\n",
    "        'name': 'physical',\n",
    "        'marker':{\n",
    "            'color': '#FF4136',\n",
    "        },\n",
    "        'boxmean': 'sd',\n",
    "        'orientation': 'h',\n",
    "        \"type\": \"box\",\n",
    "    },\n",
    "    {\n",
    "        'x': [4, 3, 5, 4, 5, 2, 5, 5, 5, 5, 4, 5],\n",
    "        'y': ['safety', 'safety', 'safety', 'safety', \n",
    "              'safety', 'safety', 'safety', 'safety', \n",
    "              'safety', 'safety', 'safety', 'safety'],\n",
    "        'name':'audio',\n",
    "        'marker': {\n",
    "            'color': '#3D9970'\n",
    "        },\n",
    "        'boxmean': 'sd',\n",
    "        'orientation': 'h',\n",
    "        \"type\": \"box\",\n",
    "    },\n",
    "    {\n",
    "        'x': [4, 3, 5, 4, 5, 2, 5, 5, 5, 5, 4, 5],\n",
    "        'y': ['safety', 'safety', 'safety', 'safety', \n",
    "              'safety', 'safety', 'safety', 'safety', \n",
    "              'safety', 'safety', 'safety', 'safety'],\n",
    "        'name': 'haptics & audio',\n",
    "        'marker':{\n",
    "            'color': '#AA4136',\n",
    "        },\n",
    "        'boxmean': 'sd',\n",
    "        'orientation': 'h',\n",
    "        \"type\": \"box\",\n",
    "    }\n",
    "]\n",
    "layout = {\n",
    "    'xaxis': {\n",
    "        'title': 'The comparision between different feedbacks.',\n",
    "        'zeroline': False,\n",
    "    },\n",
    "    'boxmode': 'group',\n",
    "    'legend' : dict(x=0.65, y=1.05),\n",
    "}\n",
    "fig = go.Figure(data=data, layout=layout)\n",
    "\n",
    "py.iplot(fig)"
   ]
  },
  {
   "cell_type": "code",
   "execution_count": 18,
   "metadata": {
    "collapsed": false,
    "deletable": true,
    "editable": true
   },
   "outputs": [
    {
     "data": {
      "text/html": [
       "<iframe id=\"igraph\" scrolling=\"no\" style=\"border:none;\" seamless=\"seamless\" src=\"https://plot.ly/~arrowx123/205.embed\" height=\"525px\" width=\"100%\"></iframe>"
      ],
      "text/plain": [
       "<plotly.tools.PlotlyDisplay object>"
      ]
     },
     "execution_count": 18,
     "metadata": {},
     "output_type": "execute_result"
    }
   ],
   "source": [
    "# box plot for the comprehensive comparision of haptics and audio\n",
    "\n",
    "\n",
    "\n",
    "\n",
    "data = [\n",
    "    {\n",
    "        'x': [\n",
    "            2, 4, 4, 2, 4, 5, 3, 3, 5, 3, 5, 3,\n",
    "            12 / 3.0, 7 / 3.0, 3 / 3.0, 11 / 3.0, 4 / 3.0, 3 / 3.0, 7 / 3.0, 10 / 3.0, 7 / 3.0, 7 / 3.0, 5 / 3.0, 12 / 3.0,\n",
    "            4, 5, 5, 4, 4, 3, 5, 4, 2, 3, 3, 4,\n",
    "            4, 5, 5, 4, 5, 5, 4, 3, 5, 5, 5, 5\n",
    "            ],\n",
    "        'y': [\n",
    "            'sense<br>of safety', 'sense<br>of safety', 'sense<br>of safety', 'sense<br>of safety', \n",
    "            'sense<br>of safety', 'sense<br>of safety', 'sense<br>of safety', 'sense<br>of safety', \n",
    "            'sense<br>of safety', 'sense<br>of safety', 'sense<br>of safety', 'sense<br>of safety', \n",
    "             'fagitue', 'fagitue', 'fagitue', 'fagitue', \n",
    "              'fagitue', 'fagitue', 'fagitue', 'fagitue', \n",
    "              'fagitue', 'fagitue', 'fagitue', 'fagitue',\n",
    "             'vibration<br>intensity', 'vibration<br>intensity', 'vibration<br>intensity', 'vibration<br>intensity',\n",
    "             'vibration<br>intensity', 'vibration<br>intensity', 'vibration<br>intensity', 'vibration<br>intensity',\n",
    "             'vibration<br>intensity', 'vibration<br>intensity', 'vibration<br>intensity', 'vibration<br>intensity',\n",
    "            'learning<br>speed', 'learning<br>speed', 'learning<br>speed', 'learning<br>speed', \n",
    "            'learning<br>speed', 'learning<br>speed', 'learning<br>speed', 'learning<br>speed', \n",
    "            'learning<br>speed', 'learning<br>speed', 'learning<br>speed', 'learning<br>speed'\n",
    "             ],\n",
    "        'name': 'physical',\n",
    "        'marker':{\n",
    "            'color': '#FF4136',\n",
    "        },\n",
    "        'boxmean': 'sd',\n",
    "        'orientation': 'h',\n",
    "        \"type\": \"box\",\n",
    "    },\n",
    "    {\n",
    "        'x': [\n",
    "            4, 3, 5, 4, 5, 2, 5, 5, 5, 5, 4, 5,\n",
    "             8 / 3.0, 11 / 3.0, 7 / 3.0, 9 / 3.0, 5 / 3.0, 12 / 3.0, 4 / 3.0, 6 / 3.0, 6 / 3.0, 7 / 3.0, 8 / 3.0, 6 / 3.0,\n",
    "        2, 1, 1, 1, 4, 1, 1, 1, 1, 1, 1, 1,\n",
    "            4, 5, 3, 3, 3, 2, 3, 4, 2, 3, 3, 4\n",
    "        ],\n",
    "        'y': [\n",
    "            'sense<br>of safety', 'sense<br>of safety', 'sense<br>of safety', 'sense<br>of safety', \n",
    "            'sense<br>of safety', 'sense<br>of safety', 'sense<br>of safety', 'sense<br>of safety', \n",
    "            'sense<br>of safety', 'sense<br>of safety', 'sense<br>of safety', 'sense<br>of safety', \n",
    "             'fagitue', 'fagitue', 'fagitue', 'fagitue', \n",
    "              'fagitue', 'fagitue', 'fagitue', 'fagitue', \n",
    "              'fagitue', 'fagitue', 'fagitue', 'fagitue',\n",
    "             'vibration<br>intensity', 'vibration<br>intensity', 'vibration<br>intensity', 'vibration<br>intensity',\n",
    "             'vibration<br>intensity', 'vibration<br>intensity', 'vibration<br>intensity', 'vibration<br>intensity',\n",
    "             'vibration<br>intensity', 'vibration<br>intensity', 'vibration<br>intensity', 'vibration<br>intensity',\n",
    "            'learning<br>speed', 'learning<br>speed', 'learning<br>speed', 'learning<br>speed', \n",
    "            'learning<br>speed', 'learning<br>speed', 'learning<br>speed', 'learning<br>speed', \n",
    "            'learning<br>speed', 'learning<br>speed', 'learning<br>speed', 'learning<br>speed'\n",
    "             ],\n",
    "        'name':'audio',\n",
    "        'marker': {\n",
    "            'color': '#3D9970'\n",
    "        },\n",
    "        'boxmean': 'sd',\n",
    "        'orientation': 'h',\n",
    "        \"type\": \"box\",\n",
    "    },\n",
    "    {\n",
    "        'x': [\n",
    "            4, 3, 5, 4, 5, 2, 5, 5, 5, 5, 4, 5,\n",
    "             8 / 3.0, 10 / 3.0, 5 / 3.0, 9 / 3.0, 5 / 3.0, 12 / 3.0, 4 / 3.0, 6 / 3.0, 6 / 3.0, 7 / 3.0, 8 / 3.0, 9 / 3.0,\n",
    "        3, 5, 5, 2, 4, 4, 1, 2, 1, 4, 1, 4,\n",
    "            4, 5, 3, 2, 3, 2, 3, 4, 2, 2, 3, 4\n",
    "        ],\n",
    "        'y': [\n",
    "            'sense<br>of safety', 'sense<br>of safety', 'sense<br>of safety', 'sense<br>of safety', \n",
    "            'sense<br>of safety', 'sense<br>of safety', 'sense<br>of safety', 'sense<br>of safety', \n",
    "            'sense<br>of safety', 'sense<br>of safety', 'sense<br>of safety', 'sense<br>of safety', \n",
    "             'fagitue', 'fagitue', 'fagitue', 'fagitue', \n",
    "              'fagitue', 'fagitue', 'fagitue', 'fagitue', \n",
    "              'fagitue', 'fagitue', 'fagitue', 'fagitue',\n",
    "             'vibration<br>intensity', 'vibration<br>intensity', 'vibration<br>intensity', 'vibration<br>intensity',\n",
    "             'vibration<br>intensity', 'vibration<br>intensity', 'vibration<br>intensity', 'vibration<br>intensity',\n",
    "             'vibration<br>intensity', 'vibration<br>intensity', 'vibration<br>intensity', 'vibration<br>intensity',\n",
    "            'learning<br>speed', 'learning<br>speed', 'learning<br>speed', 'learning<br>speed', \n",
    "            'learning<br>speed', 'learning<br>speed', 'learning<br>speed', 'learning<br>speed', \n",
    "            'learning<br>speed', 'learning<br>speed', 'learning<br>speed', 'learning<br>speed'\n",
    "             ],\n",
    "        'name': 'haptics & audio',\n",
    "        'marker':{\n",
    "            'color': '#AA4136',\n",
    "        },\n",
    "        'boxmean': 'sd',\n",
    "        'orientation': 'h',\n",
    "        \"type\": \"box\",\n",
    "    }\n",
    "]\n",
    "layout = {\n",
    "    'xaxis': {\n",
    "        'title': 'The comparision between different feedbacks.',\n",
    "        'zeroline': False,\n",
    "    },\n",
    "    'boxmode': 'group',\n",
    "    'legend' : dict(x=0.65, y=1.05),\n",
    "}\n",
    "fig = go.Figure(data=data, layout=layout)\n",
    "\n",
    "py.iplot(fig)"
   ]
  },
  {
   "cell_type": "code",
   "execution_count": null,
   "metadata": {
    "collapsed": true,
    "deletable": true,
    "editable": true
   },
   "outputs": [],
   "source": []
  }
 ],
 "metadata": {
  "kernelspec": {
   "display_name": "Python 2",
   "language": "python",
   "name": "python2"
  },
  "language_info": {
   "codemirror_mode": {
    "name": "ipython",
    "version": 2
   },
   "file_extension": ".py",
   "mimetype": "text/x-python",
   "name": "python",
   "nbconvert_exporter": "python",
   "pygments_lexer": "ipython2",
   "version": "2.7.10"
  }
 },
 "nbformat": 4,
 "nbformat_minor": 2
}
